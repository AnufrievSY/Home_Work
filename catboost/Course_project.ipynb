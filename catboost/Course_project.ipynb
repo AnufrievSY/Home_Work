{
 "cells": [
  {
   "cell_type": "markdown",
   "id": "077b3782",
   "metadata": {},
   "source": [
    "# Поставленные задачи"
   ]
  },
  {
   "cell_type": "markdown",
   "id": "dc5d3e8b",
   "metadata": {},
   "source": [
    "#### Целевая переменная\n",
    "Credit Default - факт невыполнения кредитных обязательств\n",
    "\n",
    "#### Метрика качества\n",
    "F1-score (sklearn.metrics.f1_score)\n",
    "\n",
    "#### Требования к решению\n",
    "* Целевая метрика: F1 > 0.5\n",
    "* Метрика оценивается по качеству прогноза для главного класса (1 - просрочка по кредиту)\n",
    "\n",
    "#### Решение должно содержать\n",
    "1. Тетрадка Jupyter Notebook с кодом Вашего решения, названная по образцу {ФИО}_solution.ipynb, пример SShirkin_solution.ipynb\n",
    "2. Файл CSV с прогнозами целевой переменной для тестового датасета, названный по образцу {ФИО}_predictions.csv, пример SShirkin_predictions.csv\n",
    "\n",
    "#### Рекомендации для файла с кодом (ipynb)\n",
    "1. Файл должен содержать заголовки и комментарии (markdown)\n",
    "2. Повторяющиеся операции лучше оформлять в виде функций\n",
    "3. Не делать вывод большого количества строк таблиц (5-10 достаточно)\n",
    "4. По возможности добавлять графики, описывающие данные (около 3-5)\n",
    "5. Добавлять только лучшую модель, то есть не включать в код все варианты решения проекта\n",
    "6. Скрипт проекта должен отрабатывать от начала и до конца (от загрузки данных до выгрузки предсказаний)\n",
    "7. Весь проект должен быть в одном скрипте (файл ipynb).\n",
    "8. Допускается применение библиотек Python и моделей машинного обучения, которые были в данном курсе.\n",
    "\n",
    "#### Сроки сдачи\n",
    "Cдать проект нужно в течение 5 дней после окончания последнего вебинара. Оценки работ, сданных до дедлайна, будут представлены в виде рейтинга, ранжированного по заданной метрике качества. Проекты, сданные после дедлайна или сданные повторно, не попадают в рейтинг, но можно будет узнать результат."
   ]
  },
  {
   "cell_type": "markdown",
   "id": "653235b5",
   "metadata": {},
   "source": [
    "# Загрузка всего необходимого"
   ]
  },
  {
   "cell_type": "code",
   "execution_count": 1,
   "id": "c7a98519",
   "metadata": {},
   "outputs": [],
   "source": [
    "import pandas as pd  # для работы с данными\n",
    "from matplotlib import pyplot as plt  # для построения граффиков\n",
    "import seaborn as sns\n",
    "import numpy as np\n",
    "from sklearn.metrics import classification_report, f1_score, precision_score, recall_score\n",
    "from catboost import CatBoostClassifier\n",
    "from sklearn.model_selection import train_test_split\n",
    "from sklearn.preprocessing import normalize"
   ]
  },
  {
   "cell_type": "code",
   "execution_count": 2,
   "id": "f6a37b38",
   "metadata": {},
   "outputs": [],
   "source": [
    "df_train = pd.read_csv('course_project_train.csv')  # обучающий датасет\n",
    "df_test = pd.read_csv('course_project_test.csv')  # тестовый датасет"
   ]
  },
  {
   "cell_type": "code",
   "execution_count": 3,
   "id": "9b65c98c",
   "metadata": {},
   "outputs": [],
   "source": [
    "# Настройка оценки качества прогноза\n",
    "\n",
    "def chek_result(y_test, y_pred):\n",
    "    f1 = f1_score(y_test, y_pred, pos_label=1)\n",
    "    #print(f'Точность прогноза составляется: {f1}')\n",
    "    return f1\n",
    "\n",
    "def get_classification_report(y_train_true, y_train_pred, y_test_true, y_test_pred): \n",
    "    print('TRAIN\\n\\n' + classification_report(y_train_true, y_train_pred))\n",
    "    print('TEST\\n\\n' + classification_report(y_test_true, y_test_pred))\n",
    "    print('CONFUSION MATRIX\\n')\n",
    "    print(pd.crosstab(y_test_true, y_test_pred))"
   ]
  },
  {
   "cell_type": "markdown",
   "id": "418be05c",
   "metadata": {},
   "source": [
    "# Обзор обучающего датасета"
   ]
  },
  {
   "cell_type": "markdown",
   "id": "0b603b41",
   "metadata": {},
   "source": [
    "#### Описание датасета\n",
    "\n",
    "* Home Ownership - домовладение\n",
    "* Annual Income - годовой доход\n",
    "* Years in current job - количество лет на текущем месте работы\n",
    "* Tax Liens - налоговые обременения\n",
    "* Number of Open Accounts - количество открытых счетов\n",
    "* Years of Credit History - количество лет кредитной истории\n",
    "* Maximum Open Credit - наибольший открытый кредит\n",
    "* Number of Credit Problems - количество проблем с кредитом\n",
    "* Months since last delinquent - количество месяцев с последней просрочки платежа\n",
    "* Bankruptcies - банкротства\n",
    "* Purpose - цель кредита\n",
    "* Term - срок кредита\n",
    "* Current Loan Amount - текущая сумма кредита\n",
    "* Current Credit Balance - текущий кредитный баланс\n",
    "* Monthly Debt - ежемесячный долг\n",
    "* Credit Default - факт невыполнения кредитных обязательств (0 - погашен вовремя, 1 - просрочка)"
   ]
  },
  {
   "cell_type": "code",
   "execution_count": 4,
   "id": "33516ea1",
   "metadata": {},
   "outputs": [
    {
     "name": "stdout",
     "output_type": "stream",
     "text": [
      "<class 'pandas.core.frame.DataFrame'>\n",
      "RangeIndex: 7500 entries, 0 to 7499\n",
      "Data columns (total 17 columns):\n",
      " #   Column                        Non-Null Count  Dtype  \n",
      "---  ------                        --------------  -----  \n",
      " 0   Home Ownership                7500 non-null   object \n",
      " 1   Annual Income                 5943 non-null   float64\n",
      " 2   Years in current job          7129 non-null   object \n",
      " 3   Tax Liens                     7500 non-null   float64\n",
      " 4   Number of Open Accounts       7500 non-null   float64\n",
      " 5   Years of Credit History       7500 non-null   float64\n",
      " 6   Maximum Open Credit           7500 non-null   float64\n",
      " 7   Number of Credit Problems     7500 non-null   float64\n",
      " 8   Months since last delinquent  3419 non-null   float64\n",
      " 9   Bankruptcies                  7486 non-null   float64\n",
      " 10  Purpose                       7500 non-null   object \n",
      " 11  Term                          7500 non-null   object \n",
      " 12  Current Loan Amount           7500 non-null   float64\n",
      " 13  Current Credit Balance        7500 non-null   float64\n",
      " 14  Monthly Debt                  7500 non-null   float64\n",
      " 15  Credit Score                  5943 non-null   float64\n",
      " 16  Credit Default                7500 non-null   int64  \n",
      "dtypes: float64(12), int64(1), object(4)\n",
      "memory usage: 996.2+ KB\n"
     ]
    }
   ],
   "source": [
    "df_train.info()"
   ]
  },
  {
   "cell_type": "markdown",
   "id": "d7396b08",
   "metadata": {},
   "source": [
    "Прежде всего необходимо привести все данные к единому типу"
   ]
  },
  {
   "cell_type": "code",
   "execution_count": 5,
   "id": "52105259",
   "metadata": {},
   "outputs": [],
   "source": [
    "df_t = df_train.copy()\n",
    "for c in df_t.select_dtypes(include=['object']).columns:\n",
    "    for j, i in enumerate(df_t[c].value_counts().index):\n",
    "        df_t.loc[df_t[c] == i, c] = j\n",
    "        \n",
    "for c in df_t.select_dtypes(exclude=['float64']).columns:\n",
    "    df_t = df_t.astype({c: np.float64})\n",
    "\n",
    "for c in df_t.columns:\n",
    "    df_t.loc[df_t[c].isna(), c] = 0"
   ]
  },
  {
   "cell_type": "code",
   "execution_count": 6,
   "id": "237ccd8b",
   "metadata": {},
   "outputs": [],
   "source": [
    "df_t = df_train.copy()\n",
    "for c in df_t.select_dtypes(include=['object']).columns:\n",
    "    for i in df_t[c].value_counts().index:\n",
    "        df_t[i] = 0.0\n",
    "        df_t.loc[df_t[c] == i, i] = 0.1\n",
    "    df_t = df_t.drop(columns = c)\n",
    "    \n",
    "for c in df_t.select_dtypes(exclude=['float64']).columns:\n",
    "    df_t = df_t.astype({c: np.float64})\n",
    "\n",
    "for c in df_t.columns:\n",
    "    df_t.loc[df_t[c].isna(), c] = 0"
   ]
  },
  {
   "cell_type": "markdown",
   "id": "d244ba92",
   "metadata": {},
   "source": [
    "далее выявим выбросы у не категориальных элементов"
   ]
  },
  {
   "cell_type": "code",
   "execution_count": 7,
   "id": "5cfb934d",
   "metadata": {},
   "outputs": [
    {
     "data": {
      "text/html": [
       "<div>\n",
       "<style scoped>\n",
       "    .dataframe tbody tr th:only-of-type {\n",
       "        vertical-align: middle;\n",
       "    }\n",
       "\n",
       "    .dataframe tbody tr th {\n",
       "        vertical-align: top;\n",
       "    }\n",
       "\n",
       "    .dataframe thead th {\n",
       "        text-align: right;\n",
       "    }\n",
       "</style>\n",
       "<table border=\"1\" class=\"dataframe\">\n",
       "  <thead>\n",
       "    <tr style=\"text-align: right;\">\n",
       "      <th></th>\n",
       "      <th>count</th>\n",
       "      <th>mean</th>\n",
       "      <th>std</th>\n",
       "      <th>min</th>\n",
       "      <th>25%</th>\n",
       "      <th>50%</th>\n",
       "      <th>75%</th>\n",
       "      <th>max</th>\n",
       "    </tr>\n",
       "  </thead>\n",
       "  <tbody>\n",
       "    <tr>\n",
       "      <th>Tax Liens</th>\n",
       "      <td>7500.0</td>\n",
       "      <td>3.013333e-02</td>\n",
       "      <td>2.716035e-01</td>\n",
       "      <td>0.0</td>\n",
       "      <td>0.0</td>\n",
       "      <td>0.0</td>\n",
       "      <td>0.00</td>\n",
       "      <td>7.000000e+00</td>\n",
       "    </tr>\n",
       "    <tr>\n",
       "      <th>Years of Credit History</th>\n",
       "      <td>7500.0</td>\n",
       "      <td>1.831747e+01</td>\n",
       "      <td>7.041946e+00</td>\n",
       "      <td>4.0</td>\n",
       "      <td>13.5</td>\n",
       "      <td>17.0</td>\n",
       "      <td>21.80</td>\n",
       "      <td>5.770000e+01</td>\n",
       "    </tr>\n",
       "    <tr>\n",
       "      <th>Maximum Open Credit</th>\n",
       "      <td>7500.0</td>\n",
       "      <td>9.451537e+05</td>\n",
       "      <td>1.602622e+07</td>\n",
       "      <td>0.0</td>\n",
       "      <td>279229.5</td>\n",
       "      <td>478159.0</td>\n",
       "      <td>793501.50</td>\n",
       "      <td>1.304726e+09</td>\n",
       "    </tr>\n",
       "    <tr>\n",
       "      <th>Number of Credit Problems</th>\n",
       "      <td>7500.0</td>\n",
       "      <td>1.700000e-01</td>\n",
       "      <td>4.985978e-01</td>\n",
       "      <td>0.0</td>\n",
       "      <td>0.0</td>\n",
       "      <td>0.0</td>\n",
       "      <td>0.00</td>\n",
       "      <td>7.000000e+00</td>\n",
       "    </tr>\n",
       "    <tr>\n",
       "      <th>Months since last delinquent</th>\n",
       "      <td>7500.0</td>\n",
       "      <td>1.581520e+01</td>\n",
       "      <td>2.264944e+01</td>\n",
       "      <td>0.0</td>\n",
       "      <td>0.0</td>\n",
       "      <td>0.0</td>\n",
       "      <td>29.00</td>\n",
       "      <td>1.180000e+02</td>\n",
       "    </tr>\n",
       "    <tr>\n",
       "      <th>Bankruptcies</th>\n",
       "      <td>7500.0</td>\n",
       "      <td>1.169333e-01</td>\n",
       "      <td>3.469044e-01</td>\n",
       "      <td>0.0</td>\n",
       "      <td>0.0</td>\n",
       "      <td>0.0</td>\n",
       "      <td>0.00</td>\n",
       "      <td>4.000000e+00</td>\n",
       "    </tr>\n",
       "    <tr>\n",
       "      <th>Current Loan Amount</th>\n",
       "      <td>7500.0</td>\n",
       "      <td>1.187318e+07</td>\n",
       "      <td>3.192612e+07</td>\n",
       "      <td>11242.0</td>\n",
       "      <td>180169.0</td>\n",
       "      <td>309573.0</td>\n",
       "      <td>519882.00</td>\n",
       "      <td>1.000000e+08</td>\n",
       "    </tr>\n",
       "    <tr>\n",
       "      <th>Current Credit Balance</th>\n",
       "      <td>7500.0</td>\n",
       "      <td>2.898332e+05</td>\n",
       "      <td>3.178714e+05</td>\n",
       "      <td>0.0</td>\n",
       "      <td>114256.5</td>\n",
       "      <td>209323.0</td>\n",
       "      <td>360406.25</td>\n",
       "      <td>6.506797e+06</td>\n",
       "    </tr>\n",
       "    <tr>\n",
       "      <th>Credit Default</th>\n",
       "      <td>7500.0</td>\n",
       "      <td>2.817333e-01</td>\n",
       "      <td>4.498740e-01</td>\n",
       "      <td>0.0</td>\n",
       "      <td>0.0</td>\n",
       "      <td>0.0</td>\n",
       "      <td>1.00</td>\n",
       "      <td>1.000000e+00</td>\n",
       "    </tr>\n",
       "    <tr>\n",
       "      <th>Home Mortgage</th>\n",
       "      <td>7500.0</td>\n",
       "      <td>4.849333e-02</td>\n",
       "      <td>4.998063e-02</td>\n",
       "      <td>0.0</td>\n",
       "      <td>0.0</td>\n",
       "      <td>0.0</td>\n",
       "      <td>0.10</td>\n",
       "      <td>1.000000e-01</td>\n",
       "    </tr>\n",
       "    <tr>\n",
       "      <th>Rent</th>\n",
       "      <td>7500.0</td>\n",
       "      <td>4.272000e-02</td>\n",
       "      <td>4.947048e-02</td>\n",
       "      <td>0.0</td>\n",
       "      <td>0.0</td>\n",
       "      <td>0.0</td>\n",
       "      <td>0.10</td>\n",
       "      <td>1.000000e-01</td>\n",
       "    </tr>\n",
       "    <tr>\n",
       "      <th>Own Home</th>\n",
       "      <td>7500.0</td>\n",
       "      <td>8.626667e-03</td>\n",
       "      <td>2.807761e-02</td>\n",
       "      <td>0.0</td>\n",
       "      <td>0.0</td>\n",
       "      <td>0.0</td>\n",
       "      <td>0.00</td>\n",
       "      <td>1.000000e-01</td>\n",
       "    </tr>\n",
       "  </tbody>\n",
       "</table>\n",
       "</div>"
      ],
      "text/plain": [
       "                               count          mean           std      min  \\\n",
       "Tax Liens                     7500.0  3.013333e-02  2.716035e-01      0.0   \n",
       "Years of Credit History       7500.0  1.831747e+01  7.041946e+00      4.0   \n",
       "Maximum Open Credit           7500.0  9.451537e+05  1.602622e+07      0.0   \n",
       "Number of Credit Problems     7500.0  1.700000e-01  4.985978e-01      0.0   \n",
       "Months since last delinquent  7500.0  1.581520e+01  2.264944e+01      0.0   \n",
       "Bankruptcies                  7500.0  1.169333e-01  3.469044e-01      0.0   \n",
       "Current Loan Amount           7500.0  1.187318e+07  3.192612e+07  11242.0   \n",
       "Current Credit Balance        7500.0  2.898332e+05  3.178714e+05      0.0   \n",
       "Credit Default                7500.0  2.817333e-01  4.498740e-01      0.0   \n",
       "Home Mortgage                 7500.0  4.849333e-02  4.998063e-02      0.0   \n",
       "Rent                          7500.0  4.272000e-02  4.947048e-02      0.0   \n",
       "Own Home                      7500.0  8.626667e-03  2.807761e-02      0.0   \n",
       "\n",
       "                                   25%       50%        75%           max  \n",
       "Tax Liens                          0.0       0.0       0.00  7.000000e+00  \n",
       "Years of Credit History           13.5      17.0      21.80  5.770000e+01  \n",
       "Maximum Open Credit           279229.5  478159.0  793501.50  1.304726e+09  \n",
       "Number of Credit Problems          0.0       0.0       0.00  7.000000e+00  \n",
       "Months since last delinquent       0.0       0.0      29.00  1.180000e+02  \n",
       "Bankruptcies                       0.0       0.0       0.00  4.000000e+00  \n",
       "Current Loan Amount           180169.0  309573.0  519882.00  1.000000e+08  \n",
       "Current Credit Balance        114256.5  209323.0  360406.25  6.506797e+06  \n",
       "Credit Default                     0.0       0.0       1.00  1.000000e+00  \n",
       "Home Mortgage                      0.0       0.0       0.10  1.000000e-01  \n",
       "Rent                               0.0       0.0       0.10  1.000000e-01  \n",
       "Own Home                           0.0       0.0       0.00  1.000000e-01  "
      ]
     },
     "execution_count": 7,
     "metadata": {},
     "output_type": "execute_result"
    }
   ],
   "source": [
    "c = df_t.columns\n",
    "columns = [c[1], c[3], c[4], c[5], c[6], c[7], c[8], c[9], c[12], c[13], c[14], c[15]]\n",
    "\n",
    "df_t[columns].describe().T\n"
   ]
  },
  {
   "cell_type": "markdown",
   "id": "927eab0d",
   "metadata": {},
   "source": [
    "Уделим особое внимание следующим признакам"
   ]
  },
  {
   "cell_type": "code",
   "execution_count": 8,
   "id": "4a5804b4",
   "metadata": {},
   "outputs": [
    {
     "data": {
      "image/png": "[encoded data removed]",
      "text/plain": [
       "<Figure size 1440x72 with 3 Axes>"
      ]
     },
     "metadata": {
      "needs_background": "light"
     },
     "output_type": "display_data"
    },
    {
     "data": {
      "image/png": "[encoded data removed]",
      "text/plain": [
       "<Figure size 1440x72 with 3 Axes>"
      ]
     },
     "metadata": {
      "needs_background": "light"
     },
     "output_type": "display_data"
    },
    {
     "data": {
      "image/png": "[encoded data removed]",
      "text/plain": [
       "<Figure size 1440x72 with 3 Axes>"
      ]
     },
     "metadata": {
      "needs_background": "light"
     },
     "output_type": "display_data"
    },
    {
     "data": {
      "image/png": "[encoded data removed]",
      "text/plain": [
       "<Figure size 1440x72 with 3 Axes>"
      ]
     },
     "metadata": {
      "needs_background": "light"
     },
     "output_type": "display_data"
    },
    {
     "data": {
      "image/png": "[encoded data removed]",
      "text/plain": [
       "<Figure size 1440x72 with 3 Axes>"
      ]
     },
     "metadata": {
      "needs_background": "light"
     },
     "output_type": "display_data"
    },
    {
     "data": {
      "image/png": "[encoded data removed]",
      "text/plain": [
       "<Figure size 1440x72 with 3 Axes>"
      ]
     },
     "metadata": {
      "needs_background": "light"
     },
     "output_type": "display_data"
    }
   ],
   "source": [
    "for i in ['Annual Income', \n",
    "          'Years of Credit History', \n",
    "          'Maximum Open Credit', \n",
    "          'Months since last delinquent', \n",
    "          'Current Credit Balance', \n",
    "          'Monthly Debt']:\n",
    "    grid = sns.jointplot(data=df_t, x=i, y='Credit Default')\n",
    "    grid.fig.set_figwidth(20)\n",
    "    grid.fig.set_figheight(1)"
   ]
  },
  {
   "cell_type": "markdown",
   "id": "bb02008d",
   "metadata": {},
   "source": [
    "как видим на высоких значениях встречаются выбросы, почистим их"
   ]
  },
  {
   "cell_type": "code",
   "execution_count": 9,
   "id": "ccfb53c0",
   "metadata": {},
   "outputs": [],
   "source": [
    "df_t = df_t.loc[df_t['Annual Income']< 0.4*(10**7)]\n",
    "df_t = df_t.loc[df_t['Years of Credit History']> 5]\n",
    "df_t = df_t.loc[df_t['Years of Credit History']< 45]\n",
    "df_t = df_t.loc[df_t['Maximum Open Credit']< 0.1*(10**7)]\n",
    "df_t = df_t.loc[df_t['Months since last delinquent']< 100]\n",
    "df_t = df_t.loc[df_t['Current Credit Balance']< 6*(10**5)]\n",
    "df_t = df_t.loc[df_t['Monthly Debt']< 4*(10**4)]"
   ]
  },
  {
   "cell_type": "markdown",
   "id": "c4480e1c",
   "metadata": {},
   "source": [
    "построим модель"
   ]
  },
  {
   "cell_type": "code",
   "execution_count": 10,
   "id": "182e919d",
   "metadata": {
    "scrolled": false
   },
   "outputs": [
    {
     "name": "stdout",
     "output_type": "stream",
     "text": [
      "TRAIN\n",
      "\n",
      "              precision    recall  f1-score   support\n",
      "\n",
      "         0.0       1.00      1.00      1.00      2957\n",
      "         1.0       1.00      1.00      1.00      1225\n",
      "\n",
      "    accuracy                           1.00      4182\n",
      "   macro avg       1.00      1.00      1.00      4182\n",
      "weighted avg       1.00      1.00      1.00      4182\n",
      "\n",
      "TEST\n",
      "\n",
      "              precision    recall  f1-score   support\n",
      "\n",
      "         0.0       0.79      0.87      0.82      1284\n",
      "         1.0       0.54      0.41      0.47       509\n",
      "\n",
      "    accuracy                           0.74      1793\n",
      "   macro avg       0.67      0.64      0.64      1793\n",
      "weighted avg       0.72      0.74      0.72      1793\n",
      "\n",
      "CONFUSION MATRIX\n",
      "\n",
      "col_0            0.0  1.0\n",
      "Credit Default           \n",
      "0.0             1111  173\n",
      "1.0              302  207\n"
     ]
    }
   ],
   "source": [
    "y = df_t.pop('Credit Default')\n",
    "x = df_t\n",
    "x = normalize(df_t, norm='l2', axis=1, copy=True, return_norm=False)\n",
    "\n",
    "x_train, x_test, y_train, y_test = train_test_split(x, y, train_size = 0.7, shuffle = True)\n",
    "\n",
    "model = CatBoostClassifier(eval_metric = 'F1',\n",
    "                           iterations = 1400,\n",
    "                           random_seed = 50,\n",
    "                           border_count = 120,\n",
    "                           learning_rate = 0.624,\n",
    "                           score_function = 'Cosine',                           \n",
    "                           bootstrap_type = 'Bayesian',\n",
    "                           silent=True)\n",
    "model.fit(x_train, y_train) \n",
    "y_train_pred = model.predict(x_train)\n",
    "y_test_pred = model.predict(x_test)\n",
    "y_test_pred_probs = model.predict_proba(x_test)\n",
    "get_classification_report(y_train, y_train_pred, y_test, y_test_pred)"
   ]
  },
  {
   "cell_type": "code",
   "execution_count": 11,
   "id": "7d46e002",
   "metadata": {},
   "outputs": [],
   "source": [
    "model.feature_importances_\n",
    "feature_importances = pd.DataFrame({'feature': df_t.columns, 'importance': model.feature_importances_})\n",
    "\n",
    "important_features_top = feature_importances.loc[feature_importances['importance'] >2, 'feature'].tolist()"
   ]
  },
  {
   "cell_type": "code",
   "execution_count": 12,
   "id": "94f1d373",
   "metadata": {},
   "outputs": [
    {
     "name": "stdout",
     "output_type": "stream",
     "text": [
      "TRAIN\n",
      "\n",
      "              precision    recall  f1-score   support\n",
      "\n",
      "         0.0       1.00      1.00      1.00      2998\n",
      "         1.0       1.00      1.00      1.00      1184\n",
      "\n",
      "    accuracy                           1.00      4182\n",
      "   macro avg       1.00      1.00      1.00      4182\n",
      "weighted avg       1.00      1.00      1.00      4182\n",
      "\n",
      "TEST\n",
      "\n",
      "              precision    recall  f1-score   support\n",
      "\n",
      "         0.0       0.77      0.89      0.83      1243\n",
      "         1.0       0.63      0.41      0.50       550\n",
      "\n",
      "    accuracy                           0.74      1793\n",
      "   macro avg       0.70      0.65      0.66      1793\n",
      "weighted avg       0.73      0.74      0.73      1793\n",
      "\n",
      "CONFUSION MATRIX\n",
      "\n",
      "col_0            0.0  1.0\n",
      "Credit Default           \n",
      "0.0             1109  134\n",
      "1.0              324  226\n"
     ]
    }
   ],
   "source": [
    "x = df_t[important_features_top]\n",
    "x = normalize(df_t, norm='l2', axis=1, copy=True, return_norm=False)\n",
    "\n",
    "x_train, x_test, y_train, y_test = train_test_split(x, y, train_size = 0.7, shuffle = True)\n",
    "\n",
    "final_model = CatBoostClassifier(eval_metric = 'F1',\n",
    "                           iterations = 1400,\n",
    "                           random_seed = 50,\n",
    "                           border_count = 120,\n",
    "                           learning_rate = 0.624,\n",
    "                           score_function = 'Cosine',                           \n",
    "                           bootstrap_type = 'Bayesian',\n",
    "                           silent=True)\n",
    "model.fit(x_train, y_train) \n",
    "y_train_pred = model.predict(x_train)\n",
    "y_test_pred = model.predict(x_test)\n",
    "y_test_pred_probs = model.predict_proba(x_test)\n",
    "get_classification_report(y_train, y_train_pred, y_test, y_test_pred)"
   ]
  },
  {
   "cell_type": "code",
   "execution_count": 36,
   "id": "dc747a17",
   "metadata": {},
   "outputs": [],
   "source": [
    "result_df = pd.DataFrame(x_test, columns = df_t.columns)\n",
    "result_df['Credit Default'] = y_test_pred\n",
    "result_df.to_csv('СЮАнуфриев_predictions.csv', sep='\\t', encoding='utf-8')"
   ]
  }
 ],
 "metadata": {
  "kernelspec": {
   "display_name": "Python 3 (ipykernel)",
   "language": "python",
   "name": "python3"
  },
  "language_info": {
   "codemirror_mode": {
    "name": "ipython",
    "version": 3
   },
   "file_extension": ".py",
   "mimetype": "text/x-python",
   "name": "python",
   "nbconvert_exporter": "python",
   "pygments_lexer": "ipython3",
   "version": "3.9.7"
  }
 },
 "nbformat": 4,
 "nbformat_minor": 5
}
